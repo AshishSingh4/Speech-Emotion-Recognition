{
  "cells": [
    {
      "cell_type": "markdown",
      "metadata": {
        "id": "eOSAWTcR7FFd"
      },
      "source": [
        "## NumPy Assignment"
      ]
    },
    {
      "cell_type": "markdown",
      "metadata": {
        "id": "JzaGIjqo7FFg"
      },
      "source": [
        "This assignment will introduce you to the NumPy library and demonstrate how vectorization can significantly accelerate computations compared to traditional iterative approaches.\n",
        "\n",
        "You are to only write/modify the code in between consecutive # < START > and # < END > comments. DO NOT modify other parts of the notebook."
      ]
    },
    {
      "cell_type": "markdown",
      "metadata": {
        "id": "gtuT1LFq7FFh"
      },
      "source": [
        "**Start by running the below cell, to import the NumPy library.**"
      ]
    },
    {
      "cell_type": "code",
      "execution_count": 2,
      "metadata": {
        "id": "7cqlGFZ27FFi"
      },
      "outputs": [],
      "source": [
        "import numpy as np"
      ]
    },
    {
      "cell_type": "markdown",
      "metadata": {
        "id": "87uDp97o7FFj"
      },
      "source": [
        "### Initialising arrays\n",
        "NumPy offers multiple methods to create and populate arrays, one of them is using the `np.array()` function.\n",
        "\n",
        "Create the following matrix with the variable arr : $$ \\begin{bmatrix}\n",
        "1 & 2 & 3 \\\\\n",
        "4 & 5 & 6 \\\\\n",
        "7 & 8 & 9\n",
        "\\end{bmatrix} $$"
      ]
    },
    {
      "cell_type": "code",
      "execution_count": 3,
      "metadata": {
        "colab": {
          "base_uri": "https://localhost:8080/"
        },
        "id": "0Kpeg3l27FFj",
        "outputId": "731a47d1-6064-4ce7-ad60-d2661b4079f0"
      },
      "outputs": [
        {
          "output_type": "stream",
          "name": "stdout",
          "text": [
            "[[1 2 3]\n",
            " [4 5 6]\n",
            " [7 8 9]]\n",
            "Shape:  (3, 3)\n"
          ]
        }
      ],
      "source": [
        "arr = np.array([[1, 2, 3], [4, 5, 6], [7, 8, 9]])\n",
        "print(arr)\n",
        "print(\"Shape: \", arr.shape)"
      ]
    },
    {
      "cell_type": "markdown",
      "metadata": {
        "id": "AadTWC9R7FFj"
      },
      "source": [
        "You can also transpose arrays (same as with matrices), but a more general and commonly used function is the `array.reshape()` function\n",
        "\n",
        "Now create a new array arr_transpose which is transpose of the upper triangular matrix including the diagonal of the above matrix. The upper triangular matrix is the matrix with all elements below the diagonal equal to zero."
      ]
    },
    {
      "cell_type": "code",
      "execution_count": 4,
      "metadata": {
        "colab": {
          "base_uri": "https://localhost:8080/"
        },
        "id": "kOoJbtzF7FFj",
        "outputId": "78dd1c8c-88db-4fc3-a8be-06e888a62202"
      },
      "outputs": [
        {
          "output_type": "stream",
          "name": "stdout",
          "text": [
            "[[1 0 0]\n",
            " [2 5 0]\n",
            " [3 6 9]]\n",
            "Shape:  (3, 3)\n"
          ]
        }
      ],
      "source": [
        "upper_triangular = np.triu(arr)\n",
        "arr_transpose = upper_triangular.T\n",
        "print(arr_transpose)\n",
        "print(\"Shape: \", arr_transpose.shape)"
      ]
    },
    {
      "cell_type": "markdown",
      "metadata": {
        "id": "VUjkIdJR7FFk"
      },
      "source": [
        "`reshape` is commonly used to flatten data stored in multi-dimensional arrays (ex: a 2D array representing a B/W image)\n",
        "\n",
        "Create a new array arr_flat that contains the same elements as arr but has been flattened to a column array\n",
        "\n",
        "`array.flatten()` converts it into a row array"
      ]
    },
    {
      "cell_type": "code",
      "execution_count": 5,
      "metadata": {
        "colab": {
          "base_uri": "https://localhost:8080/"
        },
        "id": "8dLtpj1v7FFk",
        "outputId": "1b36f026-570c-4e54-907c-b2a844a220cb"
      },
      "outputs": [
        {
          "output_type": "stream",
          "name": "stdout",
          "text": [
            "[[1]\n",
            " [2]\n",
            " [3]\n",
            " [4]\n",
            " [5]\n",
            " [6]\n",
            " [7]\n",
            " [8]\n",
            " [9]]\n",
            "Shape:  (9, 1)\n"
          ]
        }
      ],
      "source": [
        "arr_flatten = arr.reshape(-1, 1)\n",
        "print(arr_flatten)\n",
        "print(\"Shape: \", arr_flatten.shape)"
      ]
    },
    {
      "cell_type": "markdown",
      "metadata": {
        "id": "AzoLffJ47FFl"
      },
      "source": [
        "A few more basic methods to initialize arrays exist.\n",
        "\n",
        "- Initialize a NumPy array RANDOM_ARR of dimensions $2 \\times 3$ with random values.  Do not use the values of the dimensions directly, instead use the variables provided as arguments. Hint  : `np.random.randn()`"
      ]
    },
    {
      "cell_type": "code",
      "execution_count": 6,
      "metadata": {
        "colab": {
          "base_uri": "https://localhost:8080/"
        },
        "id": "CB2E3Qrp7FFl",
        "outputId": "748c01f0-3af5-400b-f2ba-e0459a67e75a"
      },
      "outputs": [
        {
          "output_type": "stream",
          "name": "stdout",
          "text": [
            "RANDOM_ARR:  [[-1.22871616 -0.68764661  1.05798421]\n",
            " [ 0.38499281 -1.74087416 -1.59265658]]\n"
          ]
        }
      ],
      "source": [
        "# random array\n",
        "n_rows = 2\n",
        "n_cols = 3\n",
        "\n",
        "RANDOM_ARR = np.random.randn(n_rows, n_cols)\n",
        "\n",
        "print(\"RANDOM_ARR: \", RANDOM_ARR)"
      ]
    },
    {
      "cell_type": "markdown",
      "metadata": {
        "id": "JzDMnuuS7FFl"
      },
      "source": [
        "- Create a new array ZERO_ARR of dimensions $2 \\times 1 \\times 2$ whose every element is 0"
      ]
    },
    {
      "cell_type": "code",
      "execution_count": 7,
      "metadata": {
        "colab": {
          "base_uri": "https://localhost:8080/"
        },
        "id": "3OSs-c9T7FFl",
        "outputId": "54393b04-fc71-43e5-cf60-9c72177a7711"
      },
      "outputs": [
        {
          "output_type": "stream",
          "name": "stdout",
          "text": [
            "ZERO_ARR:  [[[0. 0.]]\n",
            "\n",
            " [[0. 0.]]]\n"
          ]
        }
      ],
      "source": [
        "# zeros array\n",
        "ZERO_ARR = np.zeros((2, 1, 2))\n",
        "\n",
        "print(\"ZERO_ARR: \", ZERO_ARR)"
      ]
    },
    {
      "cell_type": "markdown",
      "metadata": {
        "id": "IFJsVoyZ7FFl"
      },
      "source": [
        "- Initialize an array ONE_ARR of dimensions $2 \\times 1 \\times 2$ whose every element is 1"
      ]
    },
    {
      "cell_type": "code",
      "execution_count": 8,
      "metadata": {
        "colab": {
          "base_uri": "https://localhost:8080/"
        },
        "id": "AFZ51duS7FFl",
        "outputId": "62987ed1-bd8e-4045-ea27-0f6a756209b2"
      },
      "outputs": [
        {
          "output_type": "stream",
          "name": "stdout",
          "text": [
            "ONES_ARR:  [[[1. 1.]]\n",
            "\n",
            " [[1. 1.]]]\n"
          ]
        }
      ],
      "source": [
        "# ones array\n",
        "ONE_ARR = np.ones((2, 1, 2))\n",
        "\n",
        "print(\"ONES_ARR: \", ONE_ARR)"
      ]
    },
    {
      "cell_type": "markdown",
      "metadata": {
        "id": "2zZ7EwGo7FFm"
      },
      "source": [
        "### Multiplying two matrices\n",
        "Matrix multiplication is a binary operation that produces a matrix from two matrices. For matrix multiplication, the number of columns in the first matrix must be equal to the number of rows in the second matrix.\n",
        "\n",
        "`np.dot()` is used to compute the dot product of two arrays. It behaves differently for arrays of different dimensions.\n",
        "\n",
        "\n",
        "- Now, initialise two 1-D arrays A_1 and B_1 of size $3$ with random integers (search a function for integer random numbers in NumPy). Multiply the two arrays and store the result in a new array C_1."
      ]
    },
    {
      "cell_type": "code",
      "execution_count": 11,
      "metadata": {
        "colab": {
          "base_uri": "https://localhost:8080/"
        },
        "id": "pFjj-e197FFm",
        "outputId": "1b90e4ef-7d77-4d29-ae69-e0686fc4b974"
      },
      "outputs": [
        {
          "output_type": "stream",
          "name": "stdout",
          "text": [
            "A:  [2 9 5]\n",
            "B:  [7 0 8]\n",
            "C:  54\n"
          ]
        }
      ],
      "source": [
        "A=np.random.randint(10, size=3)\n",
        "B=np.random.randint(10, size=3)\n",
        "C=np.dot(A,B)\n",
        "\n",
        "assert A.shape == (3,)\n",
        "assert B.shape == (3,)\n",
        "# The line above is an assert statement, which stops the program execution if the specified condition evaluates to False.\n",
        "# Assert statements are commonly used in neural network programs to verify that the matrices have the correct dimensions.\n",
        "\n",
        "print(\"A: \", A)\n",
        "print(\"B: \", B)\n",
        "print(\"C: \", C)"
      ]
    },
    {
      "cell_type": "markdown",
      "metadata": {
        "id": "EGWMYPQW7FFm"
      },
      "source": [
        "- In the next step, initialise two 2-D arrays A_2 and B_2 of dimensions $3 \\times 3$ with random integers. Multiply the two arrays and store the result in a new array C_2."
      ]
    },
    {
      "cell_type": "code",
      "execution_count": 12,
      "metadata": {
        "colab": {
          "base_uri": "https://localhost:8080/"
        },
        "id": "ind2Jgqf7FFm",
        "outputId": "8666ffd2-daed-4387-fe50-b81eb7618234"
      },
      "outputs": [
        {
          "output_type": "stream",
          "name": "stdout",
          "text": [
            "A:  [[7 9 5]\n",
            " [4 7 7]\n",
            " [6 2 8]]\n",
            "B:  [[3 6 8]\n",
            " [8 2 6]\n",
            " [8 6 6]]\n",
            "C:  [[133  90 140]\n",
            " [124  80 116]\n",
            " [ 98  88 108]]\n"
          ]
        }
      ],
      "source": [
        "A = np.random.randint(1, 10, size=(3,3))\n",
        "B = np.random.randint(1, 10, size=(3,3))\n",
        "C = np.dot(A,B)\n",
        "\n",
        "assert A.shape == (3,3)\n",
        "assert B.shape == (3,3)\n",
        "\n",
        "print(\"A: \", A)\n",
        "print(\"B: \", B)\n",
        "print(\"C: \", C)"
      ]
    },
    {
      "cell_type": "markdown",
      "metadata": {
        "id": "335mNRt87FFm"
      },
      "source": [
        "- In the last step, initialise two 3-D arrays A_3 and B_3 of dimensions $2 \\times 2 \\times 2$ with random integers. Multiply the two arrays and store the result in a new array C_3."
      ]
    },
    {
      "cell_type": "code",
      "execution_count": 13,
      "metadata": {
        "colab": {
          "base_uri": "https://localhost:8080/"
        },
        "id": "UkNSdQXo7FFm",
        "outputId": "29f1031a-47ec-413d-94ca-f03cd0ef5ae6"
      },
      "outputs": [
        {
          "output_type": "stream",
          "name": "stdout",
          "text": [
            "A:  [[[4 5]\n",
            "  [8 8]]\n",
            "\n",
            " [[7 2]\n",
            "  [1 2]]]\n",
            "B:  [[[2 9]\n",
            "  [1 6]]\n",
            "\n",
            " [[1 2]\n",
            "  [9 7]]]\n",
            "C:  [[[[ 13  66]\n",
            "   [ 49  43]]\n",
            "\n",
            "  [[ 24 120]\n",
            "   [ 80  72]]]\n",
            "\n",
            "\n",
            " [[[ 16  75]\n",
            "   [ 25  28]]\n",
            "\n",
            "  [[  4  21]\n",
            "   [ 19  16]]]]\n"
          ]
        }
      ],
      "source": [
        "A = np.random.randint(1, 10, size = (2,2,2))\n",
        "B = np.random.randint(1, 10, size = (2,2,2))\n",
        "C = np.dot(A,B)\n",
        "\n",
        "assert A.shape == (2,2,2)\n",
        "assert B.shape == (2,2,2)\n",
        "\n",
        "print(\"A: \", A)\n",
        "print(\"B: \", B)\n",
        "print(\"C: \", C)"
      ]
    },
    {
      "cell_type": "markdown",
      "metadata": {
        "id": "nRD1J84L7FFm"
      },
      "source": [
        "### Indexing and Slicing\n",
        "Indexing and slicing are fundamental techniques for accessing and manipulating elements of an array. Indexing is used to obtain individual elements, while slicing allows you to obtain a subset of the array.\n",
        "\n",
        "**Indexing** retrieves specific elements of an array. In one-dimensional arrays, you use the index position. For multidimensional arrays, elements can be accessed using either `array[i][j]` or `array[i, j]`, where the latter is preferred. The `array[i, j]` notation is more efficient because it avoids creating a temporary intermediate array when resolving the first index, directly retrieving the desired element. This efficiency extends to higher-dimensional arrays, where elements can be accessed across multiple dimensions, e.g., `array[i, j, k]`.\n",
        "\n",
        "**Slicing** extracts portions of an array using the syntax `array[start:end:step]`.\n",
        "- `start`: Specifies where the slice begins (inclusive)\n",
        "- `end`: Specifies where the slice ends (exclusive)\n",
        "- `step`: Determines the interval between indices\n",
        "\n",
        "By default, `start` is `0`, `end` is the length of the array, and `step` is `1`. Slicing can be applied independently across dimensions in multidimensional arrays, separated by commas (e.g., `array[start:end, start:end]`). Importantly, slicing creates a view of the original array, meaning changes to the slice will reflect in the original array. If indices are out of bounds, slicing returns an empty array instead of raising an error.\n",
        "<br>\n",
        "\n",
        "*Phew! That was a lot of information. Let's put it to practice.*"
      ]
    },
    {
      "cell_type": "markdown",
      "metadata": {
        "id": "31qgyfEW7FFm"
      },
      "source": [
        "- Initialise an array x with values 1 to 10.\n",
        "    - Create a new array y that contains the first three elements of x.\n",
        "    - Create a new array z that contains the last two elements of x.\n",
        "    - Create a new array w that contains all the elements of x except the first and last element.\n",
        "    - Create a new array v with alternate elements of x starting from the first element."
      ]
    },
    {
      "cell_type": "code",
      "execution_count": 14,
      "metadata": {
        "colab": {
          "base_uri": "https://localhost:8080/"
        },
        "id": "B7WxFeGe7FFn",
        "outputId": "afdfdf15-ca95-4d21-c73e-7878c4b4968d"
      },
      "outputs": [
        {
          "output_type": "stream",
          "name": "stdout",
          "text": [
            "y:  [1 2 3]\n",
            "z:  [ 9 10]\n",
            "w:  [2 3 4 5 6 7 8 9]\n",
            "v:  [1 3 5 7 9]\n"
          ]
        }
      ],
      "source": [
        "x = np.arange(1, 11)\n",
        "y = x[:3]\n",
        "z = x[-2:]\n",
        "w = x[1:-1]\n",
        "v = x[::2]\n",
        "\n",
        "print(\"y: \", y)\n",
        "print(\"z: \", z)\n",
        "print(\"w: \", w)\n",
        "print(\"v: \", v)"
      ]
    },
    {
      "cell_type": "markdown",
      "metadata": {
        "id": "Za3aVtxv7FFn"
      },
      "source": [
        "- Initialise a 2-D array X as follows: $$ \\begin{bmatrix}\n",
        "4 & 5 & 2 \\\\\n",
        "3 & 7 & 9 \\\\\n",
        "1 & 4 & 5 \\\\\n",
        "6 & 6 & 1\n",
        "\\end{bmatrix} $$\n",
        "    - Create a new array Y using X, that is of the form [[4, 5], [1, 4]].\n",
        "    - Create a new array Z using X, that is of the form [[5, 2], [7, 9], [4, 5]].\n"
      ]
    },
    {
      "cell_type": "code",
      "execution_count": 15,
      "metadata": {
        "colab": {
          "base_uri": "https://localhost:8080/"
        },
        "id": "VEmRkkbf7FFn",
        "outputId": "dd6e9a95-45fb-48cb-9805-befcbfe0e533"
      },
      "outputs": [
        {
          "output_type": "stream",
          "name": "stdout",
          "text": [
            "X:  [[4 5 2]\n",
            " [3 7 9]\n",
            " [1 4 5]\n",
            " [6 6 1]]\n",
            "Y:  [[4 5]\n",
            " [1 4]]\n",
            "Z:  [[7 9]\n",
            " [4 5]\n",
            " [6 1]]\n"
          ]
        }
      ],
      "source": [
        "X = np.array([[4, 5, 2], [3, 7, 9], [1, 4, 5], [6, 6, 1]])\n",
        "Y = X[[0, 2], :2]\n",
        "Z = X[1:, 1:]\n",
        "\n",
        "print(\"X: \", X)\n",
        "print(\"Y: \", Y)\n",
        "print(\"Z: \", Z)"
      ]
    },
    {
      "cell_type": "markdown",
      "metadata": {
        "id": "Se7wRaf27FFn"
      },
      "source": [
        "### Broadcasting\n",
        "Broadcasting is a powerful mechanism that allows NumPy to work with arrays of different shapes when performing arithmetic operations. Frequently, we have a smaller array and a larger array, and we want to use the smaller array multiple times to perform some operation on the larger array.\n",
        "Broadcasting allows this by automatically expanding the smaller array to match the shape of the larger one, making the operation possible without explicitly reshaping the arrays. This feature enhances flexibility in array operations, enabling highly efficient algorithms while minimizing memory usage.\n",
        "\n",
        "It's important to note that broadcasting is distinct from matrix multiplication or padding; it specifically refers to how NumPy handles arrays of different shapes during arithmetic operations."
      ]
    },
    {
      "cell_type": "markdown",
      "metadata": {
        "id": "9U4054LG7FFn"
      },
      "source": [
        "\n",
        "- Initialise an array x with values 1 to 4.\n",
        "    - Create a new array y using x, that is of the form [[1, 2, 3, 4], [1, 2, 3, 4], [1, 2, 3, 4]].\n",
        "    - Create a new array z using x, that is of the form [[1, 1, 1, 1], [2, 2, 2, 2], [3, 3, 3, 3], [4, 4, 4, 4]].\n",
        "    - Implement broadcasting to add the arrays x and z and store the result in a new array w."
      ]
    },
    {
      "cell_type": "code",
      "execution_count": 16,
      "metadata": {
        "colab": {
          "base_uri": "https://localhost:8080/"
        },
        "id": "MoYmPqGA7FFn",
        "outputId": "ac6e2010-35a8-4b9e-c5e5-fe43027c82a4"
      },
      "outputs": [
        {
          "output_type": "stream",
          "name": "stdout",
          "text": [
            "x:  [1 2 3 4]\n",
            "y:  [[1 2 3 4]\n",
            " [1 2 3 4]\n",
            " [1 2 3 4]]\n",
            "z:  [[1 1 1 1]\n",
            " [2 2 2 2]\n",
            " [3 3 3 3]\n",
            " [4 4 4 4]]\n",
            "w:  [[2 3 4 5]\n",
            " [3 4 5 6]\n",
            " [4 5 6 7]\n",
            " [5 6 7 8]]\n"
          ]
        }
      ],
      "source": [
        "x = np.array([1, 2, 3, 4])\n",
        "y = np.tile(x, (3, 1))\n",
        "z = np.tile(x.reshape(-1, 1), (1, 4))\n",
        "w = x + z\n",
        "\n",
        "print(\"x: \", x)\n",
        "print(\"y: \", y)\n",
        "print(\"z: \", z)\n",
        "print(\"w: \", w)"
      ]
    },
    {
      "cell_type": "markdown",
      "metadata": {
        "id": "qrxXspEX7FFn"
      },
      "source": [
        "- Initialise a 2-D array X as follows: $$ \\begin{bmatrix}\n",
        "1 & 2 & 3 \\\\\n",
        "4 & 5 & 6 \\\\\n",
        "7 & 8 & 9 \\\\\n",
        "10 & 11 & 12\n",
        "\\end{bmatrix} $$\n",
        "    - Create a new array Y using X, that is of the form [[1, 2, 3], [1, 2, 3], [1, 2, 3], [1, 2, 3]].\n",
        "    - Create a new array Z using X, that is of the form [[1, 1, 1], [2, 2, 2], [3, 3, 3], [4, 4, 4]].\n",
        "    - Multiply each element of the first row of X by 4 and each element of the second row of X by 5. Store the result in a new array W. Hint : Make an array of the form [4, 5] and use broadcasting."
      ]
    },
    {
      "cell_type": "code",
      "execution_count": 17,
      "metadata": {
        "colab": {
          "base_uri": "https://localhost:8080/"
        },
        "id": "odmtNY__7FFn",
        "outputId": "d8191ebb-08cd-4661-f7ff-46198fe3c03d"
      },
      "outputs": [
        {
          "output_type": "stream",
          "name": "stdout",
          "text": [
            "X:  [[ 1  2  3]\n",
            " [ 4  5  6]\n",
            " [ 7  8  9]\n",
            " [10 11 12]]\n",
            "Y:  [[1 2 3]\n",
            " [1 2 3]\n",
            " [1 2 3]\n",
            " [1 2 3]]\n",
            "Z:  [[ 1  1  1]\n",
            " [ 4  4  4]\n",
            " [ 7  7  7]\n",
            " [10 10 10]]\n",
            "W:  [[ 4  8 12]\n",
            " [20 25 30]\n",
            " [ 7  8  9]\n",
            " [10 11 12]]\n"
          ]
        }
      ],
      "source": [
        "X = np.array([[1, 2, 3], [4, 5, 6], [7, 8, 9], [10, 11, 12]])\n",
        "Y = np.tile(X[0, :], (4, 1))\n",
        "Z = np.tile(X[:, 0].reshape(-1, 1), (1, 3))\n",
        "W = np.array([[4], [5], [1], [1]])*X\n",
        "\n",
        "print(\"X: \", X)\n",
        "print(\"Y: \", Y)\n",
        "print(\"Z: \", Z)\n",
        "print(\"W: \", W)"
      ]
    },
    {
      "cell_type": "markdown",
      "metadata": {
        "id": "17_8vrL67FFn"
      },
      "source": [
        "### Vectorization\n",
        "Vectorization is the process of transforming an algorithm to operate on a set of values (a vector) simultaneously, rather than processing each value individually. This eliminates the need for explicit loops, leading to more concise, readable, and efficient code. Vectorized code is typically faster than non-vectorized code because it leverages optimized, low-level implementations in C.\n",
        "\n",
        "To highlight the benefits of vectorization, let's compare the execution times of a non-vectorized approach with a vectorized one, where the task is to multiply each element of a 2D array by 3.\n",
        "\n",
        "- Create a 2-D array `arr_nonvectorised` of dimensions $1000 \\times 1000$ with random integers. Multiply each element of the array by 3 using a non-vectorized approach and store the result in a new array Y. Calculate the time taken to perform this operation.\n",
        "- Create a copy of the original array `arr_nonvectorised` and store it in a new array `arr_vectorised`. Multiply each element of the array by 3 using a vectorized approach and store the result in a new array Z. Calculate the time taken to perform this operation.\n",
        "\n",
        "And u can see the difference in time taken by both the approaches."
      ]
    },
    {
      "cell_type": "code",
      "execution_count": 18,
      "metadata": {
        "colab": {
          "base_uri": "https://localhost:8080/"
        },
        "id": "VqDD8ZAq7FFn",
        "outputId": "c6cab808-8292-4570-9154-a54f60f55d85"
      },
      "outputs": [
        {
          "output_type": "stream",
          "name": "stdout",
          "text": [
            "Time taken in non-vectorized approach: 294.30556297302246 ms\n",
            "Time taken in vectorized approach: 2.4063587188720703 ms\n",
            "Non-vectorized array:  [[273 198 210 ... 135 267  60]\n",
            " [213  30 132 ...  72 231  21]\n",
            " [240 132  60 ... 159  60 141]\n",
            " ...\n",
            " [225 165  33 ...   0 261   3]\n",
            " [159 153 153 ... 135 171  99]\n",
            " [117  66 126 ... 144 267 162]]\n",
            "Vectorized array:  [[273 198 210 ... 135 267  60]\n",
            " [213  30 132 ...  72 231  21]\n",
            " [240 132  60 ... 159  60 141]\n",
            " ...\n",
            " [225 165  33 ...   0 261   3]\n",
            " [159 153 153 ... 135 171  99]\n",
            " [117  66 126 ... 144 267 162]]\n"
          ]
        }
      ],
      "source": [
        "import time\n",
        "\n",
        "# Initialise both the aarays\n",
        "arr_nonvectorised = np.random.randint(100, size=(1000, 1000))\n",
        "arr_vectorised = arr_nonvectorised.copy()\n",
        "\n",
        "start_nv = time.time()\n",
        "\n",
        "# Non-vectorized approach\n",
        "Y = np.empty_like(arr_nonvectorised)\n",
        "for i in range(arr_nonvectorised.shape[0]):\n",
        "    for j in range(arr_nonvectorised.shape[1]):\n",
        "        Y[i, j] = arr_nonvectorised[i, j] * 3\n",
        "\n",
        "end_nv = time.time()\n",
        "\n",
        "print(\"Time taken in non-vectorized approach:\", 1000*(end_nv-start_nv), \"ms\")\n",
        "\n",
        "\n",
        "start_v = time.time()\n",
        "\n",
        "# Vectorized approach\n",
        "Z = arr_vectorised * 3\n",
        "\n",
        "end_v = time.time()\n",
        "\n",
        "print(\"Time taken in vectorized approach:\", 1000*(end_v-start_v), \"ms\")\n",
        "\n",
        "\n",
        "# Uncomment and run the following line to verify that both approaches are achieving the same result.\n",
        "print(\"Non-vectorized array: \", Y)\n",
        "print(\"Vectorized array: \", Z)"
      ]
    },
    {
      "cell_type": "markdown",
      "source": [],
      "metadata": {
        "id": "3n_ySmUiBviT"
      }
    },
    {
      "cell_type": "markdown",
      "metadata": {
        "id": "AYeAeR1w7FFo"
      },
      "source": [
        "Experimenting with array dimensions reveals that the execution times for smaller arrays may not differ significantly. However, in the context of neural networks, where we often work with large datasets, the importance of vectorization becomes clear. Vectorization optimizes performance by leveraging efficient array operations, making it crucial for handling the computational demands of large-scale data processing."
      ]
    },
    {
      "cell_type": "markdown",
      "metadata": {
        "id": "YtaFMvNM7FFo"
      },
      "source": [
        "Congratulations on completing this assignment!🥳 You can now move on to the next one."
      ]
    }
  ],
  "metadata": {
    "language_info": {
      "name": "python"
    },
    "colab": {
      "provenance": []
    },
    "kernelspec": {
      "name": "python3",
      "display_name": "Python 3"
    }
  },
  "nbformat": 4,
  "nbformat_minor": 0
}