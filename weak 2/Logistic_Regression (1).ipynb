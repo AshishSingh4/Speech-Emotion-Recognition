{
  "cells": [
    {
      "cell_type": "markdown",
      "metadata": {
        "id": "aTAky_OS1w0P"
      },
      "source": [
        "# Logistic Regression\n",
        "\n",
        "Logistic regression is a process of modeling the probability of a discrete outcome given an input variable. The most common logistic regression models a binary outcome; something that can take two values such as true/false, yes/no, and so on.\n",
        "\n",
        "In this week you will be doing logistic regression on breast cancer dataset using sklearn library. Feel free to create any new functions required."
      ]
    },
    {
      "cell_type": "code",
      "execution_count": 14,
      "metadata": {
        "id": "E56ck0_P2NR9"
      },
      "outputs": [],
      "source": [
        "#importing libraries\n",
        "from sklearn.preprocessing import StandardScaler\n",
        "from sklearn.model_selection import train_test_split\n",
        "from sklearn.metrics import accuracy_score\n",
        "from sklearn import datasets\n",
        "import numpy as np\n",
        "import numpy as np\n"
      ]
    },
    {
      "cell_type": "markdown",
      "metadata": {
        "id": "qojSAol72cmH"
      },
      "source": [
        "Preparing Data"
      ]
    },
    {
      "cell_type": "code",
      "execution_count": 15,
      "metadata": {
        "id": "_uUSV8Xk2ePh"
      },
      "outputs": [],
      "source": [
        "breast_cancer = datasets.load_breast_cancer()\n",
        "X, y = breast_cancer.data, breast_cancer.target"
      ]
    },
    {
      "cell_type": "code",
      "execution_count": 16,
      "metadata": {
        "id": "N6jcbk5g29XW"
      },
      "outputs": [],
      "source": [
        "#spliting data for training and testing\n",
        "X_train, X_test, y_train, y_test = train_test_split(X, y, test_size=0.2, random_state=1234)\n",
        "sc = StandardScaler()\n",
        "X_train = sc.fit_transform(X_train)\n",
        "X_test = sc.transform(X_test)"
      ]
    },
    {
      "cell_type": "markdown",
      "metadata": {
        "id": "R4ldHUJs3d2V"
      },
      "source": [
        "Binary cross entropy loss"
      ]
    },
    {
      "cell_type": "code",
      "execution_count": 17,
      "metadata": {
        "id": "QkXgo04D3dGW"
      },
      "outputs": [],
      "source": [
        "def BCELoss(y,y_pred):\n",
        "  loss =0\n",
        "  for i in range(len(y)):\n",
        "    loss += -y[i]*np.log(y_pred[i]) - (1-y[i])*np.log(1-y_pred[i])\n",
        "    loss = loss/len(y)\n",
        "  return loss\n"
      ]
    },
    {
      "cell_type": "markdown",
      "metadata": {
        "id": "OIuuOJcJ3sti"
      },
      "source": [
        "Develop a logistic regression model from scratch. Once the model is trained, evaluate its performance by calculating both the accuracy and the cross-entropy loss."
      ]
    },
    {
      "cell_type": "code",
      "execution_count": 24,
      "metadata": {
        "id": "gBJ6H_ss3yUr"
      },
      "outputs": [],
      "source": [
        "def sigmoid(x):\n",
        "  A = 1/(1+np.exp(-x))\n",
        "  return A\n",
        "\n",
        "class LogisticRegression:\n",
        "    def __init__(self, lr=0.01, iters=1000):\n",
        "      self.lr = lr\n",
        "      self.iters = iters\n",
        "      pass\n",
        "\n",
        "    def fit(self, X, y):\n",
        "      self.X = X\n",
        "      self.y = y\n",
        "      m, n = X.shape\n",
        "      self.W = np.zeros(n)\n",
        "      self.b = 0\n",
        "      for i in range(self.iters):\n",
        "        Z = np.dot(X,self.W) + self.b\n",
        "        A = sigmoid(Z)\n",
        "        self.loss = BCELoss(y,A)\n",
        "        dw = np.dot(X.T,(A-y))/m\n",
        "        db = np.sum(A-y)/m\n",
        "        self.W = self.W - self.lr*dw\n",
        "        self.b = self.b - self.lr*db\n",
        "      return self\n",
        "\n",
        "    def predict(self, X):\n",
        "      Z = np.dot(X,self.W) + self.b\n",
        "      A = sigmoid(Z)\n",
        "      y_pred = np.where(A>=0.5,1,0)\n",
        "      return y_pred\n"
      ]
    },
    {
      "cell_type": "code",
      "source": [
        "clf = LogisticRegression()\n",
        "clf.fit(X_train, y_train)\n",
        "y_pred = clf.predict(X_test)\n",
        "print(\"Accuracy:\", accuracy_score(y_test, y_pred)*100,\"%\")\n",
        "print(\"Cross Entropy Loss:\" , clf.loss*100,\"%\")"
      ],
      "metadata": {
        "colab": {
          "base_uri": "https://localhost:8080/"
        },
        "id": "wgto_901v73B",
        "outputId": "514df9b1-f633-4834-b0c0-2d2a5a7acf37"
      },
      "execution_count": 26,
      "outputs": [
        {
          "output_type": "stream",
          "name": "stdout",
          "text": [
            "Accuracy: 93.85964912280701 %\n",
            "Cross Entropy Loss: 0.001734706675990569 %\n"
          ]
        }
      ]
    }
  ],
  "metadata": {
    "colab": {
      "provenance": []
    },
    "kernelspec": {
      "display_name": "Python 3",
      "name": "python3"
    },
    "language_info": {
      "name": "python"
    }
  },
  "nbformat": 4,
  "nbformat_minor": 0
}